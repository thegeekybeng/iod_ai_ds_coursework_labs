{
  "cells": [
    {
      "cell_type": "markdown",
      "metadata": {
        "id": "view-in-github",
        "colab_type": "text"
      },
      "source": [
        "<a href=\"https://colab.research.google.com/github/thegeekybeng/iod_ai_ds_coursework_labs/blob/Module-1-Labs/submission_andrew_yeo_iod_lab_1_2_2c_calculus_integral.ipynb\" target=\"_parent\"><img src=\"https://colab.research.google.com/assets/colab-badge.svg\" alt=\"Open In Colab\"/></a>"
      ]
    },
    {
      "cell_type": "markdown",
      "metadata": {
        "id": "YPFbgplmKcYp"
      },
      "source": [
        "<div>\n",
        "<img src=https://www.institutedata.com/wp-content/uploads/2019/10/iod_h_tp_primary_c.svg width=\"300\">\n",
        "</div>\n",
        "\n",
        "# Calculus - Integral"
      ]
    },
    {
      "cell_type": "markdown",
      "source": [
        "In this lab you will find the integral of a function from first principles - as the limit of the area under a function's graph as the width of rectangles approximating the area tends to zero."
      ],
      "metadata": {
        "id": "RoHMhRo6p1RT"
      }
    },
    {
      "cell_type": "code",
      "execution_count": 1,
      "metadata": {
        "id": "NxkLjNxUKcYr"
      },
      "outputs": [],
      "source": [
        "import numpy as np\n",
        "import matplotlib.pyplot as plt\n",
        "# get matplot to show charts inline\n",
        "%matplotlib inline"
      ]
    },
    {
      "cell_type": "code",
      "execution_count": 2,
      "metadata": {
        "id": "49k4u8lCKcYy"
      },
      "outputs": [],
      "source": [
        "# define a function such as f(x) = x**2\n",
        "def f(x):\n",
        "  '''\n",
        "  Return x**2\n",
        "  '''\n",
        "  return x**2"
      ]
    },
    {
      "cell_type": "code",
      "execution_count": 3,
      "metadata": {
        "id": "lrcZ0mY6KcZD",
        "colab": {
          "base_uri": "https://localhost:8080/",
          "height": 449
        },
        "outputId": "ac6e2bb6-87ad-4353-ca54-b39393da24f7"
      },
      "outputs": [
        {
          "output_type": "display_data",
          "data": {
            "text/plain": [
              "<Figure size 640x480 with 1 Axes>"
            ],
            "image/png": "[encoded data removed]"
          },
          "metadata": {}
        }
      ],
      "source": [
        "# plot f(x)\n",
        "x = np.arange(-10, 11, 1)\n",
        "y = f(x)\n",
        "\n",
        "plt.plot(x, y)\n",
        "plt.xlabel('x')\n",
        "plt.ylabel('f(x)')\n",
        "\n",
        "plt.show();"
      ]
    },
    {
      "cell_type": "code",
      "execution_count": 4,
      "metadata": {
        "id": "VBkIo2EpKcY3",
        "colab": {
          "base_uri": "https://localhost:8080/"
        },
        "outputId": "c0556bf6-d78b-4830-9b51-2de329062f43"
      },
      "outputs": [
        {
          "output_type": "stream",
          "name": "stdout",
          "text": [
            "f(2) =  4\n",
            "f(5) =  25\n",
            "f(-3) =  9\n"
          ]
        }
      ],
      "source": [
        "# test the function you defined above by simply print its value for some numbers\n",
        "print('f(2) = ', f(2))\n",
        "print('f(5) = ', f(5))\n",
        "print('f(-3) = ', f(-3))"
      ]
    },
    {
      "cell_type": "code",
      "execution_count": 5,
      "metadata": {
        "id": "4sX3AWgcKcZM"
      },
      "outputs": [],
      "source": [
        "# define integral of f(x)\n",
        "# integral of a function is the area under the curve of this function\n",
        "# it can be approximated by plotting lots of rectangles and add their areas\n",
        "# the more rectangles you draw, the better is the approximation\n",
        "# but why do it by hand where python can do a much better job?!\n",
        "def integral(startX, endX, numberOfRectangles):\n",
        "    width = (float(endX) - float(startX))/ numberOfRectangles\n",
        "    totalArea = 0\n",
        "    for i in range(numberOfRectangles):\n",
        "        height = (startX + i * width)**2\n",
        "        area = width * height\n",
        "        totalArea += area\n",
        "    return totalArea"
      ]
    },
    {
      "cell_type": "code",
      "execution_count": 6,
      "metadata": {
        "id": "oS70agDbKcZR",
        "colab": {
          "base_uri": "https://localhost:8080/"
        },
        "outputId": "bee4bfab-e0b6-4693-f4cd-02bec887808e"
      },
      "outputs": [
        {
          "output_type": "stream",
          "name": "stdout",
          "text": [
            "integral(2.0,4.0,10) =  17.480000000000004\n",
            "integral(2.0,4.0,1000) =  18.654668000000008\n",
            "-----\n",
            "integral(-1.0,2.0,10) =  2.5949999999999993\n",
            "integral(-1.0,2.0,1000) =  2.9955045000000005\n"
          ]
        }
      ],
      "source": [
        "# calculate integral of f(x) for some startX, endX and a number of rectangles\n",
        "print('integral(2.0,4.0,10) = ',integral(2.0,4.0,10))\n",
        "print('integral(2.0,4.0,1000) = ',integral(2.0,4.0,1000))\n",
        "print('-----')\n",
        "print('integral(-1.0,2.0,10) = ',integral(-1.0,2.0,10))\n",
        "print('integral(-1.0,2.0,1000) = ',integral(-1.0,2.0,1000))"
      ]
    },
    {
      "cell_type": "code",
      "source": [
        "# Check the answer using sympy:\n",
        "\n",
        "# !pip install sympy # uncomment this line if sympy has not been installed\n",
        "from sympy import symbols, integrate\n",
        "x = symbols('x')\n",
        "f = x**2\n",
        "integrate(f, (x, 2, 4))"
      ],
      "metadata": {
        "id": "ZUTH_Kwopzzx",
        "colab": {
          "base_uri": "https://localhost:8080/",
          "height": 51
        },
        "outputId": "e367770e-4e6e-4b1c-8ab4-9111965c5819"
      },
      "execution_count": 7,
      "outputs": [
        {
          "output_type": "execute_result",
          "data": {
            "text/plain": [
              "56/3"
            ],
            "text/latex": "$\\displaystyle \\frac{56}{3}$"
          },
          "metadata": {},
          "execution_count": 7
        }
      ]
    },
    {
      "cell_type": "code",
      "source": [
        "integrate(f, (x, -1, 2))"
      ],
      "metadata": {
        "id": "bjjTTKAMqced",
        "colab": {
          "base_uri": "https://localhost:8080/",
          "height": 37
        },
        "outputId": "9d194bfa-7308-4ca1-ae39-bbcba351abc6"
      },
      "execution_count": 8,
      "outputs": [
        {
          "output_type": "execute_result",
          "data": {
            "text/plain": [
              "3"
            ],
            "text/latex": "$\\displaystyle 3$"
          },
          "metadata": {},
          "execution_count": 8
        }
      ]
    },
    {
      "cell_type": "markdown",
      "metadata": {
        "id": "JJ0gDK-OpoqJ"
      },
      "source": [
        "\n",
        "\n",
        "---\n",
        "\n",
        "\n",
        "\n",
        "---\n",
        "\n",
        "\n",
        "\n",
        "> > > > > > > > > © 2025 Institute of Data\n",
        "\n",
        "\n",
        "---\n",
        "\n",
        "\n",
        "\n",
        "---\n",
        "\n",
        "\n",
        "\n"
      ]
    }
  ],
  "metadata": {
    "colab": {
      "provenance": [],
      "include_colab_link": true
    },
    "kernelspec": {
      "display_name": "Python 3",
      "language": "python",
      "name": "python3"
    },
    "language_info": {
      "codemirror_mode": {
        "name": "ipython",
        "version": 3
      },
      "file_extension": ".py",
      "mimetype": "text/x-python",
      "name": "python",
      "nbconvert_exporter": "python",
      "pygments_lexer": "ipython3",
      "version": "3.8.5"
    }
  },
  "nbformat": 4,
  "nbformat_minor": 0
}