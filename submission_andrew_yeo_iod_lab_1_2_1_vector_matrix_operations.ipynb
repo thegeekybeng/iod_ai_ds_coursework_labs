{
  "cells": [
    {
      "cell_type": "markdown",
      "metadata": {
        "id": "view-in-github",
        "colab_type": "text"
      },
      "source": [
        "<a href=\"https://colab.research.google.com/github/thegeekybeng/iod_ai_ds_coursework_labs/blob/Module-1-Labs/submission_andrew_yeo_iod_lab_1_2_1_vector_matrix_operations.ipynb\" target=\"_parent\"><img src=\"https://colab.research.google.com/assets/colab-badge.svg\" alt=\"Open In Colab\"/></a>"
      ]
    },
    {
      "cell_type": "markdown",
      "metadata": {
        "id": "emj1GNgIT3CB"
      },
      "source": [
        "<div>\n",
        "<img src=https://www.institutedata.com/wp-content/uploads/2019/10/iod_h_tp_primary_c.svg width=\"300\">\n",
        "</div>"
      ]
    },
    {
      "cell_type": "markdown",
      "source": [
        "In this lab you will use Python (with the NumPy library) to carry out linear algebra operations."
      ],
      "metadata": {
        "id": "6WVkmCXWoyit"
      }
    },
    {
      "cell_type": "markdown",
      "metadata": {
        "id": "FvN6xzeyT3CC"
      },
      "source": [
        "1. Compute the scalar product of two vectors\n",
        "\n",
        "> In mathematics, the dot product or scalar product is an algebraic operation that takes two equal-length sequences of numbers (usually coordinate vectors) and returns a single number.\n",
        "\n",
        "> we can calculate it this way:\n",
        "\n",
        "        a · b = ax × bx + ay × by\n",
        "        \n",
        "Hint: [Dot Product](https://www.mathsisfun.com/algebra/vectors-dot-product.html)"
      ]
    },
    {
      "cell_type": "code",
      "execution_count": null,
      "metadata": {
        "ExecuteTime": {
          "end_time": "2019-06-27T03:58:34.200170Z",
          "start_time": "2019-06-27T03:58:34.196182Z"
        },
        "id": "JkwM7G3IT3CD"
      },
      "outputs": [],
      "source": [
        "import numpy as np"
      ]
    },
    {
      "cell_type": "code",
      "execution_count": null,
      "metadata": {
        "ExecuteTime": {
          "end_time": "2019-06-27T04:56:56.317427Z",
          "start_time": "2019-06-27T04:56:56.313425Z"
        },
        "id": "rsOPN02pT3CG"
      },
      "outputs": [],
      "source": [
        "a = [-12, 16]\n",
        "b = [12, 9]"
      ]
    },
    {
      "cell_type": "code",
      "execution_count": null,
      "metadata": {
        "id": "imtohvp_ZrIc",
        "colab": {
          "base_uri": "https://localhost:8080/"
        },
        "outputId": "626eda30-545e-4dba-ce87-08b1775691e6"
      },
      "outputs": [
        {
          "output_type": "stream",
          "name": "stdout",
          "text": [
            "0\n",
            "0\n"
          ]
        }
      ],
      "source": [
        "# import numpy as np\n",
        "\n",
        "# Define vectors\n",
        "a = np.array([-12, 16])\n",
        "b = np.array([12, 9])\n",
        "\n",
        "# Compute dot product\n",
        "dot_product = np.dot(a, b)  # Method 1\n",
        "dot_product_alt = a @ b      # Method 2 (Equivalent shorthand)\n",
        "\n",
        "print(dot_product)  # Output: 0\n",
        "print(dot_product_alt)  # Output: 0 (same result)"
      ]
    },
    {
      "cell_type": "markdown",
      "metadata": {
        "id": "2M2dKNL-T3CL"
      },
      "source": [
        "2. Compute the Hadamard product (entry-wise multiplication) of two vectors.\n",
        "\n",
        "> In mathematics, the Hadamard product (also known as the Schur product[1] or the entrywise product[2]:ch. 5) is a binary operation that takes two matrices of the same dimensions and produces another matrix of the same dimension as the operands where each element i, j is the product of elements i, j of the original two matrices. It should not be confused with the more common matrix product. It is attributed to, and named after, either French mathematician Jacques Hadamard or German mathematician Issai Schur. [Wiki](https://en.wikipedia.org/wiki/Hadamard_product_(matrices))\n",
        "\n",
        "![](https://wikimedia.org/api/rest_v1/media/math/render/svg/4eb9bb54b2820fb3583901ec05bc4b474b6d90bc)"
      ]
    },
    {
      "cell_type": "code",
      "execution_count": null,
      "metadata": {
        "ExecuteTime": {
          "end_time": "2019-06-27T04:57:06.480263Z",
          "start_time": "2019-06-27T04:57:06.474279Z"
        },
        "id": "WnDQY9MyT3CM"
      },
      "outputs": [],
      "source": [
        "a = np.matrix([[1,2],[3,4]])\n",
        "b = np.matrix([[5,6],[7,8]])"
      ]
    },
    {
      "cell_type": "code",
      "execution_count": null,
      "metadata": {
        "id": "mBergFdmZrIc",
        "colab": {
          "base_uri": "https://localhost:8080/"
        },
        "outputId": "81f5ebf6-6ad5-4b82-f3d9-8bfd2e8be556"
      },
      "outputs": [
        {
          "output_type": "execute_result",
          "data": {
            "text/plain": [
              "matrix([[ 5, 12],\n",
              "        [21, 32]])"
            ]
          },
          "metadata": {},
          "execution_count": 6
        }
      ],
      "source": [
        "np.multiply(a,b)"
      ]
    },
    {
      "cell_type": "code",
      "execution_count": null,
      "metadata": {
        "id": "rXP4sJEA-Y9K"
      },
      "outputs": [],
      "source": [
        "#desired output:\n",
        "# np.array([[5,12],[21,32]])"
      ]
    },
    {
      "cell_type": "markdown",
      "metadata": {
        "id": "b1ZR2J8HT3CO"
      },
      "source": [
        "3. Compute the sum of two matrices.\n",
        "\n",
        "![](https://wikimedia.org/api/rest_v1/media/math/render/svg/0fb7845af355c550d44020e52699069c044126a9)"
      ]
    },
    {
      "cell_type": "code",
      "execution_count": null,
      "metadata": {
        "ExecuteTime": {
          "end_time": "2019-06-27T04:57:13.225605Z",
          "start_time": "2019-06-27T04:57:13.214634Z"
        },
        "id": "ulBVhGDET3CP"
      },
      "outputs": [],
      "source": [
        "# Add two matrices using a nested loop\n",
        "\n",
        "X = [[1,2,3],\n",
        "    [4,5,6],\n",
        "    [7,8,9]]\n",
        "\n",
        "Y = [[2,3,7],\n",
        "    [1,4,9],\n",
        "    [3,2,3]]"
      ]
    },
    {
      "cell_type": "code",
      "execution_count": null,
      "metadata": {
        "id": "ZeLJp3ZGZrId",
        "colab": {
          "base_uri": "https://localhost:8080/"
        },
        "outputId": "e27f2938-1cfc-4ffd-aa47-640655e0088c"
      },
      "outputs": [
        {
          "output_type": "stream",
          "name": "stdout",
          "text": [
            "[[ 3  5 10]\n",
            " [ 5  9 15]\n",
            " [10 10 12]]\n"
          ]
        }
      ],
      "source": [
        "# import numpy as np\n",
        "\n",
        "# Define the two matrices\n",
        "A = np.matrix([\n",
        "    [1, 2, 5],\n",
        "    [2, 4, 7],\n",
        "    [6, 5, 6]\n",
        "])\n",
        "\n",
        "B = np.matrix([\n",
        "    [2, 3, 5],\n",
        "    [3, 5, 8],\n",
        "    [4, 5, 6]\n",
        "])\n",
        "\n",
        "# Compute the sum of the matrices\n",
        "matrix_sum = A + B  # Method 1\n",
        "matrix_sum_alt = np.add(A, B)  # Method 2\n",
        "\n",
        "# Print the result\n",
        "print(matrix_sum)\n"
      ]
    },
    {
      "cell_type": "code",
      "execution_count": null,
      "metadata": {
        "id": "44erAMmCZrId"
      },
      "outputs": [],
      "source": [
        "#desired output:\n",
        "#[[3,5,10],\n",
        "# [5,9,15],\n",
        "# [10,10,12]]"
      ]
    },
    {
      "cell_type": "markdown",
      "metadata": {
        "ExecuteTime": {
          "end_time": "2019-06-27T04:04:23.509007Z",
          "start_time": "2019-06-27T04:04:23.503018Z"
        },
        "id": "CZFVdvEhT3CS"
      },
      "source": [
        "4. Compute the product of two matrices.\n",
        "\n",
        "![](https://upload.wikimedia.org/wikipedia/commons/e/eb/Matrix_multiplication_diagram_2.svg)"
      ]
    },
    {
      "cell_type": "code",
      "execution_count": null,
      "metadata": {
        "ExecuteTime": {
          "end_time": "2019-06-27T04:57:19.425749Z",
          "start_time": "2019-06-27T04:57:19.412783Z"
        },
        "id": "2cwCXjx_T3CT"
      },
      "outputs": [],
      "source": [
        "# Program to multiply two matrices using nested loops\n",
        "\n",
        "# 3x3 matrix\n",
        "X = [[7, 2, 4],\n",
        "    [3, 9, 5],\n",
        "    [8, 1, 6]]\n",
        "\n",
        "# 3x4 matrix\n",
        "Y = [[5,8,2,6],\n",
        "    [1,4,9,3],\n",
        "    [7,2,5,8]]\n",
        "\n",
        "#X is 3 x 3, #Y is 3 x 4 matrix\n",
        "#result of XY is 3 x 4 matrix."
      ]
    },
    {
      "cell_type": "code",
      "execution_count": null,
      "metadata": {
        "id": "cIUXYjgGZrIe",
        "colab": {
          "base_uri": "https://localhost:8080/"
        },
        "outputId": "fa622635-563f-4ff7-bb66-5a73d383746c"
      },
      "outputs": [
        {
          "output_type": "execute_result",
          "data": {
            "text/plain": [
              "array([[ 65,  72,  52,  80],\n",
              "       [ 59,  70, 112,  85],\n",
              "       [ 83,  80,  55,  99]])"
            ]
          },
          "metadata": {},
          "execution_count": 13
        }
      ],
      "source": [
        "np.matmul(X,Y)"
      ]
    },
    {
      "cell_type": "code",
      "execution_count": null,
      "metadata": {
        "id": "M2_bFbUbZrIe"
      },
      "outputs": [],
      "source": [
        "#desired output:\n",
        "#[[65, 72, 52, 80],\n",
        "# [59, 70, 112, 85],\n",
        "# [83, 80, 55, 99]]"
      ]
    },
    {
      "cell_type": "markdown",
      "metadata": {
        "id": "zxe0vdBVT3CV"
      },
      "source": [
        "5. Compute the determinant of an n x n matrix.\n",
        "\n",
        "Hint: Use\n",
        "> np.linalg.det"
      ]
    },
    {
      "cell_type": "code",
      "execution_count": null,
      "metadata": {
        "ExecuteTime": {
          "end_time": "2019-06-27T04:58:00.140277Z",
          "start_time": "2019-06-27T04:58:00.135291Z"
        },
        "id": "7SpAPh-5T3CW"
      },
      "outputs": [],
      "source": [
        "matrix = [[-2,2,-3],[-1,1,3],[2,0,-1]]"
      ]
    },
    {
      "cell_type": "code",
      "execution_count": null,
      "metadata": {
        "id": "rjFQS3POZrIe",
        "colab": {
          "base_uri": "https://localhost:8080/"
        },
        "outputId": "cd7e8db8-7f73-4c61-9304-56ff2d9b9324"
      },
      "outputs": [
        {
          "output_type": "execute_result",
          "data": {
            "text/plain": [
              "17.999999999999996"
            ]
          },
          "metadata": {},
          "execution_count": 2
        }
      ],
      "source": [
        "from numpy.linalg import inv\n",
        "from numpy.linalg import det\n",
        "\n",
        "det(matrix)"
      ]
    },
    {
      "cell_type": "markdown",
      "metadata": {
        "id": "vUC6L5r1T3Ca"
      },
      "source": [
        "6. Compute the inverse of an n x n matrix.\n",
        "\n",
        "Hint: Use\n",
        "> `"
      ]
    },
    {
      "cell_type": "code",
      "execution_count": null,
      "metadata": {
        "ExecuteTime": {
          "end_time": "2019-06-27T04:58:33.615832Z",
          "start_time": "2019-06-27T04:58:33.609848Z"
        },
        "id": "qGxUYlMWT3Cb"
      },
      "outputs": [],
      "source": [
        "a = np.array([[1., 2.], [3., 4.]])"
      ]
    },
    {
      "cell_type": "code",
      "execution_count": null,
      "metadata": {
        "id": "pP_uIj5vZrIe",
        "colab": {
          "base_uri": "https://localhost:8080/"
        },
        "outputId": "80640033-7082-49e6-88ba-c695339d2f50"
      },
      "outputs": [
        {
          "output_type": "stream",
          "name": "stdout",
          "text": [
            "[[-2.   1. ]\n",
            " [ 1.5 -0.5]]\n"
          ]
        }
      ],
      "source": [
        "import numpy as np\n",
        "\n",
        "# Define the matrix\n",
        "A = np.array([[1., 2.], [3., 4.]])\n",
        "\n",
        "# Compute inverse\n",
        "A_inv = np.linalg.inv(A)\n",
        "\n",
        "# Print result\n",
        "print(A_inv)\n"
      ]
    },
    {
      "cell_type": "markdown",
      "source": [
        "7. (Application)\n",
        "Three customers made the following purchases of three different items at an office supply store:\n",
        "* Customer W bought 2 notebooks, 4 pens and 3 staplers for \\$38.80\n",
        "* Customer X bought 3 notebooks, 3 pens and 2 staplers for \\$32.00\n",
        "* Customer Y bought 4 notebooks, 8 pens and 1 stapler for \\$36.60\n",
        "\n",
        "Based on this, how much did customer Z spend in buying 1 notebook, 2 pens and 4 staplers?"
      ],
      "metadata": {
        "id": "zAw5Q8id96_w"
      }
    },
    {
      "cell_type": "code",
      "source": [
        "A = np.matrix([[2,4,3], [3,3,2], [4,8,1]])\n",
        "b = np.array([38.80, 32.00, 36.60])\n",
        "print(A)\n",
        "\n",
        "v = inv(A)\n",
        "result = np.matmul(v,b.T)\n",
        "print(result)"
      ],
      "metadata": {
        "id": "Pf8GvcN699vP",
        "colab": {
          "base_uri": "https://localhost:8080/"
        },
        "outputId": "19253046-ce6a-49e2-8e2c-a697661ea2a3"
      },
      "execution_count": null,
      "outputs": [
        {
          "output_type": "stream",
          "name": "stdout",
          "text": [
            "[[2 4 3]\n",
            " [3 3 2]\n",
            " [4 8 1]]\n",
            "[[3.3 1.9 8.2]]\n"
          ]
        }
      ]
    },
    {
      "cell_type": "code",
      "source": [
        "# Define the cost of items from solution x\n",
        "notebook_price = x.item(0)  # Cost of one notebook\n",
        "pen_price = x.item(1)       # Cost of one pen\n",
        "stapler_price = x.item(2)   # Cost of one stapler\n",
        "\n",
        "# Compute Customer Z's total expenditure\n",
        "customer_z_cost = (1 * notebook_price) + (2 * pen_price) + (4 * stapler_price)\n",
        "\n",
        "# Print results with formatted output\n",
        "print(f\"The cost of each stationery is {notebook_price:.2f} for notebooks, {pen_price:.2f} for pens, and {stapler_price:.2f} for staplers.\")\n",
        "print(f\"Customer Z expenditure for 1 notebook, 2 pens, and 4 staplers adds up to ${customer_z_cost:.2f}\")"
      ],
      "metadata": {
        "colab": {
          "base_uri": "https://localhost:8080/"
        },
        "id": "ySWvXUEa8wsY",
        "outputId": "259a80ce-e241-4de8-c452-a35addd9a7ef"
      },
      "execution_count": null,
      "outputs": [
        {
          "output_type": "stream",
          "name": "stdout",
          "text": [
            "The cost of each stationery is 3.30 for notebooks, 1.90 for pens, and 8.20 for staplers.\n",
            "Customer Z expenditure for 1 notebook, 2 pens, and 4 staplers adds up to $39.90\n"
          ]
        }
      ]
    },
    {
      "cell_type": "markdown",
      "metadata": {
        "id": "f52z_umQpL1V"
      },
      "source": [
        "\n",
        "\n",
        "---\n",
        "\n",
        "\n",
        "\n",
        "---\n",
        "\n",
        "\n",
        "\n",
        "> > > > > > > > > © 2025 Institute of Data\n",
        "\n",
        "\n",
        "---\n",
        "\n",
        "\n",
        "\n",
        "---\n",
        "\n",
        "\n",
        "\n"
      ]
    }
  ],
  "metadata": {
    "colab": {
      "provenance": [],
      "include_colab_link": true
    },
    "kernelspec": {
      "display_name": "Python 3 (ipykernel)",
      "language": "python",
      "name": "python3"
    },
    "language_info": {
      "codemirror_mode": {
        "name": "ipython",
        "version": 3
      },
      "file_extension": ".py",
      "mimetype": "text/x-python",
      "name": "python",
      "nbconvert_exporter": "python",
      "pygments_lexer": "ipython3",
      "version": "3.9.12"
    }
  },
  "nbformat": 4,
  "nbformat_minor": 0
}