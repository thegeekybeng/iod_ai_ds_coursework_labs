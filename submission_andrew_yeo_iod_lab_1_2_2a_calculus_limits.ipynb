{
  "cells": [
    {
      "cell_type": "markdown",
      "metadata": {
        "id": "view-in-github",
        "colab_type": "text"
      },
      "source": [
        "<a href=\"https://colab.research.google.com/github/thegeekybeng/iod_ai_ds_coursework_labs/blob/Module-1-Labs/submission_andrew_yeo_iod_lab_1_2_2a_calculus_limits.ipynb\" target=\"_parent\"><img src=\"https://colab.research.google.com/assets/colab-badge.svg\" alt=\"Open In Colab\"/></a>"
      ]
    },
    {
      "cell_type": "markdown",
      "metadata": {
        "id": "Xv41Pk1Qqxag"
      },
      "source": [
        "<div>\n",
        "<img src=https://www.institutedata.com/wp-content/uploads/2019/10/iod_h_tp_primary_c.svg width=\"300\">\n",
        "</div>\n",
        "\n",
        "# Calculus - Limits"
      ]
    },
    {
      "cell_type": "markdown",
      "source": [
        "In this lab you will calculate a limit of a function - the key idea is that we evaluate the function at values arbitrarily close to a chosen input value, without actually reaching that value."
      ],
      "metadata": {
        "id": "376ReFenqd7q"
      }
    },
    {
      "cell_type": "code",
      "execution_count": null,
      "metadata": {
        "id": "1MZb95OFqxah"
      },
      "outputs": [],
      "source": [
        "import numpy as np\n",
        "import matplotlib.pyplot as plt\n",
        "\n",
        "# get matplot to show charts inline\n",
        "%matplotlib inline"
      ]
    },
    {
      "cell_type": "code",
      "execution_count": null,
      "metadata": {
        "id": "oUpp-5Prqxaj"
      },
      "outputs": [],
      "source": [
        "# define a function, say f(x) = (x**3-1)/(x-1)\n",
        "def f(x):\n",
        "    return (x**3-1)/(x-1)"
      ]
    },
    {
      "cell_type": "code",
      "execution_count": null,
      "metadata": {
        "colab": {
          "base_uri": "https://localhost:8080/"
        },
        "id": "XpejBQNAqxal",
        "outputId": "5f9e417a-9621-4a92-bee9-7a2ee2716553"
      },
      "outputs": [
        {
          "output_type": "stream",
          "name": "stdout",
          "text": [
            "f(4) =  21.0\n"
          ]
        }
      ],
      "source": [
        "# calculate value of f(x) for some values\n",
        "print('f(4) = ',f(4))"
      ]
    },
    {
      "cell_type": "code",
      "execution_count": null,
      "metadata": {
        "colab": {
          "base_uri": "https://localhost:8080/"
        },
        "id": "SeneRcVZqxao",
        "outputId": "c96550c1-57fd-4e1c-91f9-681a68601f6f"
      },
      "outputs": [
        {
          "output_type": "stream",
          "name": "stdout",
          "text": [
            "f(1) =  3\n"
          ]
        }
      ],
      "source": [
        "# calculate value of f(x) for 1\n",
        "print('f(1) = ', f(1))"
      ]
    },
    {
      "cell_type": "code",
      "execution_count": null,
      "metadata": {
        "id": "FrmupAlRqxar"
      },
      "outputs": [],
      "source": [
        "# Define f(x) in an interval around 1\n",
        "x = np.arange(0.505, 1.495, 0.01)\n",
        "y = f(x)"
      ]
    },
    {
      "cell_type": "markdown",
      "metadata": {
        "id": "pSaqa-YL9VQu"
      },
      "source": [
        "Plot y versus x as lines and/or markers.\n",
        "\n",
        "> matplotlib.pyplot.plot\n",
        "\n",
        "[matplotlib.pyplot.plot](https://matplotlib.org/3.1.0/api/_as_gen/matplotlib.pyplot.plot.html)"
      ]
    },
    {
      "cell_type": "code",
      "execution_count": null,
      "metadata": {
        "id": "8P9JUh5Hqxat",
        "colab": {
          "base_uri": "https://localhost:8080/",
          "height": 447
        },
        "outputId": "811dea1a-60ca-4ef8-bb2d-f72cbaab4e2f"
      },
      "outputs": [
        {
          "output_type": "execute_result",
          "data": {
            "text/plain": [
              "[<matplotlib.lines.Line2D at 0x7ea4ac3c5250>]"
            ]
          },
          "metadata": {},
          "execution_count": 9
        },
        {
          "output_type": "display_data",
          "data": {
            "text/plain": [
              "<Figure size 640x480 with 1 Axes>"
            ],
            "image/png": "[encoded data removed]"
          },
          "metadata": {}
        }
      ],
      "source": [
        "plt.plot(x,y)"
      ]
    },
    {
      "cell_type": "code",
      "source": [
        "print('f(1.1) =', f(1.1))\n",
        "print('f(1.01) =', f(1.01))\n",
        "print('f(1.001) =', f(1.001))\n",
        "print('f(1.0001) =', f(1.0001))"
      ],
      "metadata": {
        "id": "ZCjgHpvlsyiG",
        "colab": {
          "base_uri": "https://localhost:8080/"
        },
        "outputId": "45efb490-f326-452a-aafa-699ad1b1e143"
      },
      "execution_count": null,
      "outputs": [
        {
          "output_type": "stream",
          "name": "stdout",
          "text": [
            "f(1.1) = 3.310000000000001\n",
            "f(1.01) = 3.0301000000000107\n",
            "f(1.001) = 3.0030010000000584\n",
            "f(1.0001) = 3.0003000099990658\n"
          ]
        }
      ]
    },
    {
      "cell_type": "code",
      "source": [
        "print('f(0.9) =', f(0.9)). #if step above is good, proceed to execute\n",
        "print('f(0.99) =', f(0.99))\n",
        "print('f(0.999) =', f(0.999))\n",
        "print('f(0.9999) =', f(0.9999))"
      ],
      "metadata": {
        "id": "DYKLah1LsyRj",
        "colab": {
          "base_uri": "https://localhost:8080/"
        },
        "outputId": "88a8ee09-1e2a-4f1a-db3a-5101d8b83c89"
      },
      "execution_count": null,
      "outputs": [
        {
          "output_type": "stream",
          "name": "stdout",
          "text": [
            "f(0.9) = 2.7099999999999995\n",
            "f(0.99) = 2.970099999999995\n",
            "f(0.999) = 2.9970009999999965\n",
            "f(0.9999) = 2.999700010000492\n"
          ]
        }
      ]
    },
    {
      "cell_type": "markdown",
      "source": [
        "Hence the limit of 3 can be determined even though the function is undefined at x=1."
      ],
      "metadata": {
        "id": "LpwVMoIBtVM_"
      }
    },
    {
      "cell_type": "code",
      "source": [
        "# Check the answer using sympy:\n",
        "\n",
        "# !pip install sympy # uncomment this line if sympy has not been installed\n",
        "from sympy import symbols, limit\n",
        "x = symbols('x')\n",
        "f = (x**3-1)/(x-1)\n",
        "c = 1\n",
        "limit(f,x,c)"
      ],
      "metadata": {
        "id": "dH_FGb0Wof3j",
        "colab": {
          "base_uri": "https://localhost:8080/",
          "height": 37
        },
        "outputId": "d5c64acb-8b84-4215-f179-3f82ba88ec5d"
      },
      "execution_count": null,
      "outputs": [
        {
          "output_type": "execute_result",
          "data": {
            "text/plain": [
              "3"
            ],
            "text/latex": "$\\displaystyle 3$"
          },
          "metadata": {},
          "execution_count": 12
        }
      ]
    },
    {
      "cell_type": "markdown",
      "metadata": {
        "id": "xPaD4APPpQyD"
      },
      "source": [
        "\n",
        "\n",
        "---\n",
        "\n",
        "\n",
        "\n",
        "---\n",
        "\n",
        "\n",
        "\n",
        "> > > > > > > > > © 2025 Institute of Data\n",
        "\n",
        "\n",
        "---\n",
        "\n",
        "\n",
        "\n",
        "---\n",
        "\n",
        "\n",
        "\n"
      ]
    }
  ],
  "metadata": {
    "colab": {
      "provenance": [],
      "include_colab_link": true
    },
    "kernelspec": {
      "display_name": "Python 3",
      "language": "python",
      "name": "python3"
    },
    "language_info": {
      "codemirror_mode": {
        "name": "ipython",
        "version": 3
      },
      "file_extension": ".py",
      "mimetype": "text/x-python",
      "name": "python",
      "nbconvert_exporter": "python",
      "pygments_lexer": "ipython3",
      "version": "3.8.5"
    }
  },
  "nbformat": 4,
  "nbformat_minor": 0
}